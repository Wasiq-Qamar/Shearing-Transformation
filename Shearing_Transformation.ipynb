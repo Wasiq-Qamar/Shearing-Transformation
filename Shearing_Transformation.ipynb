{
  "nbformat": 4,
  "nbformat_minor": 0,
  "metadata": {
    "celltoolbar": "Attachments",
    "kernelspec": {
      "display_name": "Python 3",
      "language": "python",
      "name": "python3"
    },
    "language_info": {
      "codemirror_mode": {
        "name": "ipython",
        "version": 3
      },
      "file_extension": ".py",
      "mimetype": "text/x-python",
      "name": "python",
      "nbconvert_exporter": "python",
      "pygments_lexer": "ipython3",
      "version": "3.8.5"
    },
    "colab": {
      "name": "Shearing_Transformation.ipynb",
      "provenance": [],
      "include_colab_link": true
    }
  },
  "cells": [
    {
      "cell_type": "markdown",
      "metadata": {
        "id": "view-in-github",
        "colab_type": "text"
      },
      "source": [
        "<a href=\"https://colab.research.google.com/github/Wasiq-Qamar/Shearing-Transformation/blob/main/Shearing_Transformation.ipynb\" target=\"_parent\"><img src=\"https://colab.research.google.com/assets/colab-badge.svg\" alt=\"Open In Colab\"/></a>"
      ]
    },
    {
      "cell_type": "markdown",
      "metadata": {
        "id": "DjMJz0KAsEvc"
      },
      "source": [
        "# **Wasiq Qamar - (SP18-BCS-173)**"
      ]
    },
    {
      "cell_type": "markdown",
      "metadata": {
        "id": "uAAGZLzfr8oA"
      },
      "source": [
        "\n",
        "\n",
        "> **30 x 30 Grid**\n",
        "\n",
        "\n",
        "---\n",
        "\n",
        "\n"
      ]
    },
    {
      "cell_type": "code",
      "metadata": {
        "colab": {
          "base_uri": "https://localhost:8080/",
          "height": 295
        },
        "id": "6M9MFx9Pr8oS",
        "outputId": "51e19a00-3d5f-4a0c-9609-875842ad2095"
      },
      "source": [
        "import numpy as np\n",
        "import matplotlib.pyplot as plt\n",
        "\n",
        "x=np.arange(-15,16)\n",
        "y=np.arange(-15,16)\n",
        "\n",
        "plt.title(\"30 x 30 Grid\")\n",
        "plt.xlabel(\"x-axis\")\n",
        "plt.ylabel(\"y-axis\")\n",
        "\n",
        "for i in x:\n",
        "    for j in y:\n",
        "        plt.plot(np.full((31, ), j), x, color = 'green', linewidth=0.5)\n",
        "        plt.plot(y, np.full((31, ), j), color = 'red', linewidth=0.5)\n",
        "\n",
        "\n",
        "plt.grid(color='black')\n",
        "\n",
        "plt.show()"
      ],
      "execution_count": null,
      "outputs": [
        {
          "output_type": "display_data",
          "data": {
            "image/png": "[encoded data removed]",
            "text/plain": [
              "<Figure size 432x288 with 1 Axes>"
            ]
          },
          "metadata": {
            "tags": [],
            "needs_background": "light"
          }
        }
      ]
    },
    {
      "cell_type": "code",
      "metadata": {
        "colab": {
          "base_uri": "https://localhost:8080/"
        },
        "id": "LtuI_jMxr8oT",
        "outputId": "51850216-b2b3-446b-866c-c3363949ec6b"
      },
      "source": [
        "print(x,y)"
      ],
      "execution_count": null,
      "outputs": [
        {
          "output_type": "stream",
          "text": [
            "[-15 -14 -13 -12 -11 -10  -9  -8  -7  -6  -5  -4  -3  -2  -1   0   1   2\n",
            "   3   4   5   6   7   8   9  10  11  12  13  14  15] [-15 -14 -13 -12 -11 -10  -9  -8  -7  -6  -5  -4  -3  -2  -1   0   1   2\n",
            "   3   4   5   6   7   8   9  10  11  12  13  14  15]\n"
          ],
          "name": "stdout"
        }
      ]
    },
    {
      "cell_type": "markdown",
      "metadata": {
        "id": "qjBqdCKpr8oU"
      },
      "source": [
        "> **Shear Transformed Matrix**\n",
        "\n",
        "\n",
        "---\n",
        "\n",
        "\n",
        "\n"
      ]
    },
    {
      "cell_type": "code",
      "metadata": {
        "colab": {
          "base_uri": "https://localhost:8080/"
        },
        "id": "dyHXhRIts8c3",
        "outputId": "1ba3a117-8704-46d6-b5dc-3a8d4ea5f958"
      },
      "source": [
        "shearMatrix = np.array([[1,1],[0,1]])\n",
        "print(shearMatrix)"
      ],
      "execution_count": null,
      "outputs": [
        {
          "output_type": "stream",
          "text": [
            "[[1 1]\n",
            " [0 1]]\n"
          ],
          "name": "stdout"
        }
      ]
    },
    {
      "cell_type": "code",
      "metadata": {
        "colab": {
          "base_uri": "https://localhost:8080/",
          "height": 295
        },
        "id": "sr2SNeKQr8oV",
        "outputId": "a7d4a0eb-6014-4f59-aac4-b96756d250a5"
      },
      "source": [
        "plt.title(\"Shearing Transformed Grid\")\n",
        "plt.xlabel(\"x-axis\")\n",
        "plt.ylabel(\"y-axis\")\n",
        "for i in x: \n",
        "    for j in y:\n",
        "        result = shearMatrix.dot(np.array([i, j]))\n",
        "        plt.plot(result[0], result[1],'g|', color='green')\n",
        "plt.grid(color='black')\n"
      ],
      "execution_count": null,
      "outputs": [
        {
          "output_type": "display_data",
          "data": {
            "image/png": "[encoded data removed]",
            "text/plain": [
              "<Figure size 432x288 with 1 Axes>"
            ]
          },
          "metadata": {
            "tags": [],
            "needs_background": "light"
          }
        }
      ]
    },
    {
      "cell_type": "markdown",
      "metadata": {
        "id": "05GH0m1Vr8oV"
      },
      "source": [
        "\n",
        "\n",
        "> **Shear Transformed Matrix Without Loop**\n",
        "\n",
        "This can be achieved by taking a matrix of 2 rows and 900 columns to achieve a matrix of 900 vectors and then multiplying each vector in the matrix by the shear matrix. \n",
        "\n",
        "\n",
        "---\n",
        "\n"
      ]
    },
    {
      "cell_type": "code",
      "metadata": {
        "id": "hoRQ7QBqr8oV"
      },
      "source": [
        "matrixGrid = np.zeros((2,961)) #Array of 2 rows and 900 columns\n",
        "columnNo = 0\n",
        "\n",
        "for i in x:\n",
        "    for j in y:\n",
        "        matrixGrid[0][columnNo] = i\n",
        "        matrixGrid[1][columnNo] = j\n",
        "        columnNo+=1\n",
        "\n"
      ],
      "execution_count": null,
      "outputs": []
    },
    {
      "cell_type": "code",
      "metadata": {
        "id": "u72HWx1Ir8oW"
      },
      "source": [
        "matrixGrid = shearMatrix.dot(matrixGrid) #Multiplication of vectors with shearMatrix\n"
      ],
      "execution_count": null,
      "outputs": []
    },
    {
      "cell_type": "code",
      "metadata": {
        "colab": {
          "base_uri": "https://localhost:8080/",
          "height": 295
        },
        "id": "P5Pnbi2Cr8oW",
        "outputId": "110cfbcb-23d3-4e00-d4a3-52d3201a597f"
      },
      "source": [
        "plt.title(\"Shearing Transformed Grid Without Loop\")\n",
        "plt.xlabel(\"x-axis\")\n",
        "plt.ylabel(\"y-axis\")\n",
        "for i in range(961):\n",
        "    plt.plot(matrixGrid[0][i], matrixGrid[1][i],'g|', color='green')\n",
        "plt.grid(color='black')"
      ],
      "execution_count": null,
      "outputs": [
        {
          "output_type": "display_data",
          "data": {
            "image/png": "[encoded data removed]",
            "text/plain": [
              "<Figure size 432x288 with 1 Axes>"
            ]
          },
          "metadata": {
            "tags": [],
            "needs_background": "light"
          }
        }
      ]
    },
    {
      "cell_type": "code",
      "metadata": {
        "colab": {
          "base_uri": "https://localhost:8080/"
        },
        "id": "L2mppaCgr8oX",
        "outputId": "d972679b-9396-45b3-9e71-758ca2ee6011"
      },
      "source": [
        "import matplotlib\n",
        "print(np.__version__)\n",
        "print(matplotlib.__version__)\n"
      ],
      "execution_count": null,
      "outputs": [
        {
          "output_type": "stream",
          "text": [
            "1.19.5\n",
            "3.2.2\n"
          ],
          "name": "stdout"
        }
      ]
    },
    {
      "cell_type": "code",
      "metadata": {
        "id": "QwjUix_Kr8oX",
        "colab": {
          "base_uri": "https://localhost:8080/"
        },
        "outputId": "f929d185-fea0-49ab-e2d3-6648df4d8ac4"
      },
      "source": [
        "!python3 --version\n"
      ],
      "execution_count": null,
      "outputs": [
        {
          "output_type": "stream",
          "text": [
            "Python 3.7.10\n"
          ],
          "name": "stdout"
        }
      ]
    }
  ]
}